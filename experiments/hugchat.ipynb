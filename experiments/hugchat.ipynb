{
 "cells": [
  {
   "cell_type": "code",
   "execution_count": 1,
   "metadata": {},
   "outputs": [],
   "source": [
    "from hugchat import hugchat\n",
    "from hugchat.login import Login"
   ]
  },
  {
   "cell_type": "code",
   "execution_count": 2,
   "metadata": {},
   "outputs": [],
   "source": [
    "email='wangchenhao111@gmail.com'\n",
    "passwd= 'Wch13892845832'"
   ]
  },
  {
   "cell_type": "code",
   "execution_count": 3,
   "metadata": {},
   "outputs": [],
   "source": [
    "# 登录到 huggingface 并为 huggingchat 授权\n",
    "sign = Login(email, passwd)\n",
    "cookies = sign.login()"
   ]
  },
  {
   "cell_type": "code",
   "execution_count": 5,
   "metadata": {},
   "outputs": [
    {
     "ename": "FileNotFoundError",
     "evalue": "[Errno 2] No such file or directory: './cookies_snapshot/'",
     "output_type": "error",
     "traceback": [
      "\u001b[0;31m---------------------------------------------------------------------------\u001b[0m",
      "\u001b[0;31mFileNotFoundError\u001b[0m                         Traceback (most recent call last)",
      "\u001b[1;32m/root/wang/llm/MyAgents/experiments/hugchat.ipynb 单元格 4\u001b[0m line \u001b[0;36m3\n\u001b[1;32m      <a href='vscode-notebook-cell://ssh-remote%2B7b22686f73744e616d65223a22555354432d445455227d/root/wang/llm/MyAgents/experiments/hugchat.ipynb#W3sdnNjb2RlLXJlbW90ZQ%3D%3D?line=0'>1</a>\u001b[0m \u001b[39m# 保存 cookies 到本地目录\u001b[39;00m\n\u001b[1;32m      <a href='vscode-notebook-cell://ssh-remote%2B7b22686f73744e616d65223a22555354432d445455227d/root/wang/llm/MyAgents/experiments/hugchat.ipynb#W3sdnNjb2RlLXJlbW90ZQ%3D%3D?line=1'>2</a>\u001b[0m cookie_path_dir \u001b[39m=\u001b[39m \u001b[39m\"\u001b[39m\u001b[39m./cookies_snapshot\u001b[39m\u001b[39m\"\u001b[39m\n\u001b[0;32m----> <a href='vscode-notebook-cell://ssh-remote%2B7b22686f73744e616d65223a22555354432d445455227d/root/wang/llm/MyAgents/experiments/hugchat.ipynb#W3sdnNjb2RlLXJlbW90ZQ%3D%3D?line=2'>3</a>\u001b[0m sign\u001b[39m.\u001b[39;49msaveCookiesToDir(cookie_path_dir)\n\u001b[1;32m      <a href='vscode-notebook-cell://ssh-remote%2B7b22686f73744e616d65223a22555354432d445455227d/root/wang/llm/MyAgents/experiments/hugchat.ipynb#W3sdnNjb2RlLXJlbW90ZQ%3D%3D?line=4'>5</a>\u001b[0m \u001b[39m# 在启动程序时加载 cookies：\u001b[39;00m\n\u001b[1;32m      <a href='vscode-notebook-cell://ssh-remote%2B7b22686f73744e616d65223a22555354432d445455227d/root/wang/llm/MyAgents/experiments/hugchat.ipynb#W3sdnNjb2RlLXJlbW90ZQ%3D%3D?line=5'>6</a>\u001b[0m \u001b[39m# sign = login(email, None)\u001b[39;00m\n\u001b[1;32m      <a href='vscode-notebook-cell://ssh-remote%2B7b22686f73744e616d65223a22555354432d445455227d/root/wang/llm/MyAgents/experiments/hugchat.ipynb#W3sdnNjb2RlLXJlbW90ZQ%3D%3D?line=6'>7</a>\u001b[0m \u001b[39m# cookies = sign.loadCookiesFromDir(cookie_path_dir) # 此步骤将检查指定的文件是否存在，若存在则返回cookies，不存在则报错\u001b[39;00m\n",
      "File \u001b[0;32m~/anaconda3/envs/llm/lib/python3.9/site-packages/hugchat/login.py:142\u001b[0m, in \u001b[0;36mLogin.saveCookiesToDir\u001b[0;34m(self, cookie_dir_path)\u001b[0m\n\u001b[1;32m    140\u001b[0m \u001b[39mif\u001b[39;00m \u001b[39mnot\u001b[39;00m os\u001b[39m.\u001b[39mpath\u001b[39m.\u001b[39mexists(cookie_dir_path):\n\u001b[1;32m    141\u001b[0m     logging\u001b[39m.\u001b[39minfo(\u001b[39m\"\u001b[39m\u001b[39mCookie directory not exist, creating...\u001b[39m\u001b[39m\"\u001b[39m)\n\u001b[0;32m--> 142\u001b[0m     os\u001b[39m.\u001b[39;49mmakedirs(cookie_dir_path)\n\u001b[1;32m    143\u001b[0m logging\u001b[39m.\u001b[39minfo(\u001b[39mf\u001b[39m\u001b[39m\"\u001b[39m\u001b[39mCookie store path: \u001b[39m\u001b[39m{\u001b[39;00mcookie_path\u001b[39m}\u001b[39;00m\u001b[39m\"\u001b[39m)\n\u001b[1;32m    145\u001b[0m \u001b[39mwith\u001b[39;00m \u001b[39mopen\u001b[39m(cookie_path, \u001b[39m\"\u001b[39m\u001b[39mw\u001b[39m\u001b[39m\"\u001b[39m, encoding\u001b[39m=\u001b[39m\u001b[39m\"\u001b[39m\u001b[39mutf-8\u001b[39m\u001b[39m\"\u001b[39m) \u001b[39mas\u001b[39;00m f:\n",
      "File \u001b[0;32m~/anaconda3/envs/llm/lib/python3.9/os.py:225\u001b[0m, in \u001b[0;36mmakedirs\u001b[0;34m(name, mode, exist_ok)\u001b[0m\n\u001b[1;32m    223\u001b[0m         \u001b[39mreturn\u001b[39;00m\n\u001b[1;32m    224\u001b[0m \u001b[39mtry\u001b[39;00m:\n\u001b[0;32m--> 225\u001b[0m     mkdir(name, mode)\n\u001b[1;32m    226\u001b[0m \u001b[39mexcept\u001b[39;00m \u001b[39mOSError\u001b[39;00m:\n\u001b[1;32m    227\u001b[0m     \u001b[39m# Cannot rely on checking for EEXIST, since the operating system\u001b[39;00m\n\u001b[1;32m    228\u001b[0m     \u001b[39m# could give priority to other errors like EACCES or EROFS\u001b[39;00m\n\u001b[1;32m    229\u001b[0m     \u001b[39mif\u001b[39;00m \u001b[39mnot\u001b[39;00m exist_ok \u001b[39mor\u001b[39;00m \u001b[39mnot\u001b[39;00m path\u001b[39m.\u001b[39misdir(name):\n",
      "\u001b[0;31mFileNotFoundError\u001b[0m: [Errno 2] No such file or directory: './cookies_snapshot/'"
     ]
    }
   ],
   "source": [
    "# 保存 cookies 到本地目录\n",
    "cookie_path_dir = \"./cookies_snapshot\"\n",
    "sign.saveCookiesToDir(cookie_path_dir)\n",
    "\n",
    "# 在启动程序时加载 cookies：\n",
    "# sign = login(email, None)\n",
    "# cookies = sign.loadCookiesFromDir(cookie_path_dir) # 此步骤将检查指定的文件是否存在，若存在则返回cookies，不存在则报错"
   ]
  },
  {
   "cell_type": "code",
   "execution_count": 6,
   "metadata": {},
   "outputs": [],
   "source": [
    "# 创建 ChatBot 对象\n",
    "chatbot = hugchat.ChatBot(cookies=cookies.get_dict())  # or cookie_path=\"usercookies/<email>.json\""
   ]
  },
  {
   "cell_type": "code",
   "execution_count": 7,
   "metadata": {},
   "outputs": [
    {
     "name": "stdout",
     "output_type": "stream",
     "text": [
      " Hello! It's nice to meet you. Is there something I can help you with or would you like to chat for a bit?\n"
     ]
    }
   ],
   "source": [
    "# 非流式响应\n",
    "query_result = chatbot.query(\"Hi!\")\n",
    "print(query_result)  # 纯文本为 query_result[\"text\"]"
   ]
  },
  {
   "cell_type": "code",
   "execution_count": 8,
   "metadata": {},
   "outputs": [
    {
     "name": "stdout",
     "output_type": "stream",
     "text": [
      "{'type': 'stream', 'token': ' Hi'}\n",
      "{'type': 'stream', 'token': '!'}\n",
      "{'type': 'stream', 'token': ' How'}\n",
      "{'type': 'stream', 'token': ' are'}\n",
      "{'type': 'stream', 'token': ' you'}\n",
      "{'type': 'stream', 'token': ' today'}\n",
      "{'type': 'stream', 'token': '?'}\n",
      "{'type': 'stream', 'token': ' Is'}\n",
      "{'type': 'stream', 'token': ' there'}\n",
      "{'type': 'stream', 'token': ' anything'}\n",
      "{'type': 'stream', 'token': ' you'}\n",
      "{'type': 'stream', 'token': \"'\"}\n",
      "{'type': 'stream', 'token': 'd'}\n",
      "{'type': 'stream', 'token': ' like'}\n",
      "{'type': 'stream', 'token': ' to'}\n",
      "{'type': 'stream', 'token': ' talk'}\n",
      "{'type': 'stream', 'token': ' about'}\n",
      "{'type': 'stream', 'token': ' or'}\n",
      "{'type': 'stream', 'token': ' ask'}\n",
      "{'type': 'stream', 'token': ' me'}\n",
      "{'type': 'stream', 'token': '?'}\n",
      "{'type': 'stream', 'token': ' I'}\n",
      "{'type': 'stream', 'token': \"'\"}\n",
      "{'type': 'stream', 'token': 'm'}\n",
      "{'type': 'stream', 'token': ' here'}\n",
      "{'type': 'stream', 'token': ' to'}\n",
      "{'type': 'stream', 'token': ' help'}\n",
      "{'type': 'stream', 'token': ' with'}\n",
      "{'type': 'stream', 'token': ' any'}\n",
      "{'type': 'stream', 'token': ' questions'}\n",
      "{'type': 'stream', 'token': ' you'}\n",
      "{'type': 'stream', 'token': ' might'}\n",
      "{'type': 'stream', 'token': ' have'}\n",
      "{'type': 'stream', 'token': '.'}\n",
      "None\n"
     ]
    }
   ],
   "source": [
    "# 流式响应\n",
    "for resp in chatbot.query(\n",
    "    \"Hello\",\n",
    "    stream=True\n",
    "):\n",
    "    print(resp)"
   ]
  },
  {
   "cell_type": "code",
   "execution_count": 9,
   "metadata": {},
   "outputs": [
    {
     "name": "stdout",
     "output_type": "stream",
     "text": [
      " Sure, here's a possible answer:\n",
      "\n",
      "Hi! How may I assist you today? Is there something specific you're looking for or would you like to chat for a bit? I'm here to help with any questions or concerns you might have.\n",
      "https://www.dictionary.com/browse/hi\n",
      "Hi Definition & Meaning | Dictionary.com\n",
      "www.dictionary.com\n",
      "https://www.merriam-webster.com/dictionary/hi\n",
      "Hi Definition & Meaning - Merriam-Webster\n",
      "www.merriam-webster.com\n",
      "https://hi.com/\n",
      "Web3 Neobank | Trade, Save & Spend Crypto & Fiat | hi\n",
      "hi.com\n"
     ]
    }
   ],
   "source": [
    "# 使用联网搜索功能\n",
    "query_result = chatbot.query(\"Hi!\", web_search=True)\n",
    "print(query_result) # or query_result.text or query_result[\"text\"]\n",
    "for source in query_result.web_search_sources:\n",
    "    print(source.link)\n",
    "    print(source.title)\n",
    "    print(source.hostname)"
   ]
  },
  {
   "cell_type": "code",
   "execution_count": 10,
   "metadata": {},
   "outputs": [
    {
     "data": {
      "text/plain": [
       "True"
      ]
     },
     "execution_count": 10,
     "metadata": {},
     "output_type": "execute_result"
    }
   ],
   "source": [
    "# 创建新的对话\n",
    "id = chatbot.new_conversation()\n",
    "chatbot.change_conversation(id)"
   ]
  },
  {
   "cell_type": "code",
   "execution_count": 11,
   "metadata": {},
   "outputs": [],
   "source": [
    "# 获取对话列表\n",
    "conversation_list = chatbot.get_conversation_list()"
   ]
  },
  {
   "cell_type": "code",
   "execution_count": 12,
   "metadata": {},
   "outputs": [],
   "source": [
    "# 获取可用的模型列表\n",
    "models = chatbot.get_available_llm_models()"
   ]
  },
  {
   "cell_type": "code",
   "execution_count": 13,
   "metadata": {},
   "outputs": [
    {
     "data": {
      "text/plain": [
       "True"
      ]
     },
     "execution_count": 13,
     "metadata": {},
     "output_type": "execute_result"
    }
   ],
   "source": [
    "# 切换模型\n",
    "chatbot.switch_llm(0) # 切换到第一个模型\n",
    "chatbot.switch_llm(1) # 切换到第二个模型"
   ]
  },
  {
   "cell_type": "code",
   "execution_count": null,
   "metadata": {},
   "outputs": [],
   "source": []
  }
 ],
 "metadata": {
  "kernelspec": {
   "display_name": "llm",
   "language": "python",
   "name": "python3"
  },
  "language_info": {
   "codemirror_mode": {
    "name": "ipython",
    "version": 3
   },
   "file_extension": ".py",
   "mimetype": "text/x-python",
   "name": "python",
   "nbconvert_exporter": "python",
   "pygments_lexer": "ipython3",
   "version": "3.9.16"
  }
 },
 "nbformat": 4,
 "nbformat_minor": 2
}
