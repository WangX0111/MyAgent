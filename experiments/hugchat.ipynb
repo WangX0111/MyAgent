{
 "cells": [
  {
   "cell_type": "code",
   "execution_count": 1,
   "metadata": {},
   "outputs": [],
   "source": [
    "from hugchat import hugchat\n",
    "from hugchat.login import Login"
   ]
  },
  {
   "cell_type": "code",
   "execution_count": 3,
   "metadata": {},
   "outputs": [],
   "source": [
    "email=''\n",
    "passwd= ''"
   ]
  },
  {
   "cell_type": "code",
   "execution_count": 4,
   "metadata": {},
   "outputs": [],
   "source": [
    "# 登录到 huggingface 并为 huggingchat 授权\n",
    "sign = Login(email, passwd)\n",
    "cookies = sign.login()"
   ]
  },
  {
   "cell_type": "code",
   "execution_count": 5,
   "metadata": {},
   "outputs": [
    {
     "data": {
      "text/plain": [
       "'./cookies_snapshot/wangchenhao111@gmail.com.json'"
      ]
     },
     "execution_count": 5,
     "metadata": {},
     "output_type": "execute_result"
    }
   ],
   "source": [
    "# 保存 cookies 到本地目录\n",
    "cookie_path_dir = \"./cookies_snapshot\"\n",
    "sign.saveCookiesToDir(cookie_path_dir)\n",
    "\n",
    "# 在启动程序时加载 cookies：\n",
    "# sign = login(email, None)\n",
    "# cookies = sign.loadCookiesFromDir(cookie_path_dir) # 此步骤将检查指定的文件是否存在，若存在则返回cookies，不存在则报错"
   ]
  },
  {
   "cell_type": "code",
   "execution_count": 6,
   "metadata": {},
   "outputs": [],
   "source": [
    "# 创建 ChatBot 对象\n",
    "chatbot = hugchat.ChatBot(cookies=cookies.get_dict())  # or cookie_path=\"usercookies/<email>.json\""
   ]
  },
  {
   "cell_type": "code",
   "execution_count": 7,
   "metadata": {},
   "outputs": [
    {
     "name": "stdout",
     "output_type": "stream",
     "text": [
      " Hello! It's nice to meet you. Is there something I can help you with or would you like to chat for a bit?\n"
     ]
    }
   ],
   "source": [
    "# 非流式响应\n",
    "query_result = chatbot.query(\"Hi!\")\n",
    "print(query_result)  # 纯文本为 query_result[\"text\"]"
   ]
  },
  {
   "cell_type": "code",
   "execution_count": 8,
   "metadata": {},
   "outputs": [
    {
     "name": "stdout",
     "output_type": "stream",
     "text": [
      "{'type': 'stream', 'token': ' Hi'}\n",
      "{'type': 'stream', 'token': '!'}\n",
      "{'type': 'stream', 'token': ' How'}\n",
      "{'type': 'stream', 'token': ' are'}\n",
      "{'type': 'stream', 'token': ' you'}\n",
      "{'type': 'stream', 'token': ' today'}\n",
      "{'type': 'stream', 'token': '?'}\n",
      "{'type': 'stream', 'token': ' Is'}\n",
      "{'type': 'stream', 'token': ' there'}\n",
      "{'type': 'stream', 'token': ' anything'}\n",
      "{'type': 'stream', 'token': ' you'}\n",
      "{'type': 'stream', 'token': \"'\"}\n",
      "{'type': 'stream', 'token': 'd'}\n",
      "{'type': 'stream', 'token': ' like'}\n",
      "{'type': 'stream', 'token': ' to'}\n",
      "{'type': 'stream', 'token': ' talk'}\n",
      "{'type': 'stream', 'token': ' about'}\n",
      "{'type': 'stream', 'token': ' or'}\n",
      "{'type': 'stream', 'token': ' ask'}\n",
      "{'type': 'stream', 'token': ' me'}\n",
      "{'type': 'stream', 'token': '?'}\n",
      "{'type': 'stream', 'token': ' I'}\n",
      "{'type': 'stream', 'token': \"'\"}\n",
      "{'type': 'stream', 'token': 'm'}\n",
      "{'type': 'stream', 'token': ' here'}\n",
      "{'type': 'stream', 'token': ' to'}\n",
      "{'type': 'stream', 'token': ' help'}\n",
      "{'type': 'stream', 'token': ' with'}\n",
      "{'type': 'stream', 'token': ' any'}\n",
      "{'type': 'stream', 'token': ' questions'}\n",
      "{'type': 'stream', 'token': ' you'}\n",
      "{'type': 'stream', 'token': ' might'}\n",
      "{'type': 'stream', 'token': ' have'}\n",
      "{'type': 'stream', 'token': '.'}\n",
      "None\n"
     ]
    }
   ],
   "source": [
    "# 流式响应\n",
    "for resp in chatbot.query(\n",
    "    \"Hello\",\n",
    "    stream=True\n",
    "):\n",
    "    print(resp)"
   ]
  },
  {
   "cell_type": "code",
   "execution_count": 9,
   "metadata": {},
   "outputs": [
    {
     "name": "stdout",
     "output_type": "stream",
     "text": [
      " Sure, here's a possible answer:\n",
      "\n",
      "Hi! How may I assist you today? Is there something specific you're looking for or would you like to chat for a bit? I'm here to help with any questions or concerns you might have.\n",
      "https://www.dictionary.com/browse/hi\n",
      "Hi Definition & Meaning | Dictionary.com\n",
      "www.dictionary.com\n",
      "https://www.merriam-webster.com/dictionary/hi\n",
      "Hi Definition & Meaning - Merriam-Webster\n",
      "www.merriam-webster.com\n",
      "https://hi.com/\n",
      "Web3 Neobank | Trade, Save & Spend Crypto & Fiat | hi\n",
      "hi.com\n"
     ]
    }
   ],
   "source": [
    "# 使用联网搜索功能\n",
    "query_result = chatbot.query(\"Hi!\", web_search=True)\n",
    "print(query_result) # or query_result.text or query_result[\"text\"]\n",
    "for source in query_result.web_search_sources:\n",
    "    print(source.link)\n",
    "    print(source.title)\n",
    "    print(source.hostname)"
   ]
  },
  {
   "cell_type": "code",
   "execution_count": 10,
   "metadata": {},
   "outputs": [
    {
     "data": {
      "text/plain": [
       "True"
      ]
     },
     "execution_count": 10,
     "metadata": {},
     "output_type": "execute_result"
    }
   ],
   "source": [
    "# 创建新的对话\n",
    "id = chatbot.new_conversation()\n",
    "chatbot.change_conversation(id)"
   ]
  },
  {
   "cell_type": "code",
   "execution_count": 11,
   "metadata": {},
   "outputs": [],
   "source": [
    "# 获取对话列表\n",
    "conversation_list = chatbot.get_conversation_list()"
   ]
  },
  {
   "cell_type": "code",
   "execution_count": 12,
   "metadata": {},
   "outputs": [],
   "source": [
    "# 获取可用的模型列表\n",
    "models = chatbot.get_available_llm_models()"
   ]
  },
  {
   "cell_type": "code",
   "execution_count": 13,
   "metadata": {},
   "outputs": [
    {
     "data": {
      "text/plain": [
       "True"
      ]
     },
     "execution_count": 13,
     "metadata": {},
     "output_type": "execute_result"
    }
   ],
   "source": [
    "# 切换模型\n",
    "chatbot.switch_llm(0) # 切换到第一个模型\n",
    "chatbot.switch_llm(1) # 切换到第二个模型"
   ]
  },
  {
   "cell_type": "code",
   "execution_count": null,
   "metadata": {},
   "outputs": [],
   "source": []
  }
 ],
 "metadata": {
  "kernelspec": {
   "display_name": "llm",
   "language": "python",
   "name": "python3"
  },
  "language_info": {
   "codemirror_mode": {
    "name": "ipython",
    "version": 3
   },
   "file_extension": ".py",
   "mimetype": "text/x-python",
   "name": "python",
   "nbconvert_exporter": "python",
   "pygments_lexer": "ipython3",
   "version": "3.9.16"
  }
 },
 "nbformat": 4,
 "nbformat_minor": 2
}
